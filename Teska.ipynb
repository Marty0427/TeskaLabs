{
 "cells": [
  {
   "cell_type": "code",
   "execution_count": 1,
   "id": "17b704ea",
   "metadata": {},
   "outputs": [],
   "source": [
    "import pandas as pd\n",
    "import numpy as np\n",
    "import json"
   ]
  },
  {
   "cell_type": "code",
   "execution_count": 2,
   "id": "f566bdfa",
   "metadata": {},
   "outputs": [],
   "source": [
    "with open('sample-data.json', mode = 'r', encoding = 'utf-8') as file:\n",
    "    data = json.load(file)"
   ]
  },
  {
   "cell_type": "code",
   "execution_count": 3,
   "id": "a4d22b69",
   "metadata": {},
   "outputs": [],
   "source": [
    "vstup = pd.DataFrame(data)"
   ]
  },
  {
   "cell_type": "code",
   "execution_count": null,
   "id": "03fce663",
   "metadata": {},
   "outputs": [],
   "source": [
    "#name, cpu a memory usage, created_at, status a všechny přiřazené IP adresy. Datumová pole převeďte na UTC timestamp."
   ]
  },
  {
   "cell_type": "code",
   "execution_count": 38,
   "id": "d579e8b7",
   "metadata": {},
   "outputs": [
    {
     "data": {
      "text/plain": [
       "0     Mobile-applications-UI-test\n",
       "1                       docker-at\n",
       "2          docker-logman-prod-env\n",
       "3              ecr-messenger-test\n",
       "4               fastkafka-at-2006\n",
       "5                        ftp-test\n",
       "6               genie-docker-test\n",
       "7           gitlab-ci-runner-test\n",
       "8                        kafka-ui\n",
       "9         lmio-deploy-single-test\n",
       "10                   scep-testing\n",
       "11                seacat-pki-test\n",
       "12                  teskalabs-apm\n",
       "13                tlbackup-server\n",
       "14                      wiki-test\n",
       "15                   zookeeper-ui\n",
       "16                zzz-mautic-test\n",
       "Name: name, dtype: object"
      ]
     },
     "execution_count": 38,
     "metadata": {},
     "output_type": "execute_result"
    }
   ],
   "source": [
    "#name\n",
    "vstup.name"
   ]
  },
  {
   "cell_type": "code",
   "execution_count": 93,
   "id": "20341d86",
   "metadata": {},
   "outputs": [
    {
     "name": "stdout",
     "output_type": "stream",
     "text": [
      "52985856\n",
      "NaN\n",
      "763113472\n",
      "2099625984\n",
      "76591104\n",
      "57446400\n",
      "632188928\n",
      "86732800\n",
      "190758912\n",
      "55820288\n",
      "123838464\n",
      "411295744\n",
      "667648\n",
      "27820032\n",
      "1527808\n",
      "698519552\n",
      "45236224\n"
     ]
    }
   ],
   "source": [
    "#memory usage\n",
    "for i,e in enumerate(vstup.state):\n",
    "    try:\n",
    "        print(vstup.state[i]['memory']['usage'])\n",
    "    except: print('NaN')"
   ]
  },
  {
   "cell_type": "code",
   "execution_count": 13,
   "id": "5fb9997d",
   "metadata": {},
   "outputs": [
    {
     "name": "stdout",
     "output_type": "stream",
     "text": [
      "0\n",
      "\n",
      "no info\n",
      "\n",
      "0\n",
      "\n",
      "0\n",
      "\n",
      "0\n",
      "\n",
      "0\n",
      "\n",
      "0\n",
      "\n",
      "0\n",
      "\n",
      "0\n",
      "\n",
      "0\n",
      "\n",
      "0\n",
      "\n",
      "0\n",
      "\n",
      "0\n",
      "\n",
      "0\n",
      "\n",
      "0\n",
      "\n",
      "0\n",
      "\n",
      "0\n",
      "\n"
     ]
    }
   ],
   "source": [
    "#cpu usage\n",
    "for i in range(17):\n",
    "    try:\n",
    "        print(vstup.state[i]['cpu']['usage'])\n",
    "    except: print('no info')\n",
    "    input()"
   ]
  },
  {
   "cell_type": "code",
   "execution_count": 18,
   "id": "777ae246",
   "metadata": {},
   "outputs": [
    {
     "data": {
      "text/plain": [
       "'2020-05-19T16:23:07+02:00'"
      ]
     },
     "execution_count": 18,
     "metadata": {},
     "output_type": "execute_result"
    }
   ],
   "source": [
    "#created_at\n",
    "vstup.created_at[0]"
   ]
  },
  {
   "cell_type": "code",
   "execution_count": 115,
   "id": "3f16b42e",
   "metadata": {},
   "outputs": [
    {
     "data": {
      "text/plain": [
       "0     Running\n",
       "1     Stopped\n",
       "2     Running\n",
       "3     Running\n",
       "4     Running\n",
       "5     Running\n",
       "6     Running\n",
       "7     Running\n",
       "8     Running\n",
       "9     Running\n",
       "10    Running\n",
       "11    Running\n",
       "12    Running\n",
       "13    Running\n",
       "14    Running\n",
       "15    Running\n",
       "16    Running\n",
       "Name: status, dtype: object"
      ]
     },
     "execution_count": 115,
     "metadata": {},
     "output_type": "execute_result"
    }
   ],
   "source": [
    "#status\n",
    "vstup.status"
   ]
  },
  {
   "cell_type": "code",
   "execution_count": 116,
   "id": "1adddabb",
   "metadata": {},
   "outputs": [
    {
     "name": "stdout",
     "output_type": "stream",
     "text": [
      "no network info 1\n"
     ]
    }
   ],
   "source": [
    "IP = []\n",
    "for i,e in enumerate(vstup.state):\n",
    "    try:\n",
    "        network = pd.DataFrame.from_dict(vstup.state[i]['network'])\n",
    "    except:\n",
    "        print('no network info', i)\n",
    "    ips = []\n",
    "    for k, e in enumerate(network.loc['addresses']):\n",
    "        for j in e:\n",
    "            ips.append(j['address'])\n",
    "    IP.append(ips)"
   ]
  },
  {
   "cell_type": "code",
   "execution_count": 117,
   "id": "000d35b5",
   "metadata": {},
   "outputs": [
    {
     "data": {
      "text/plain": [
       "[['172.18.0.1',\n",
       "  'fe80::42:a3ff:fe71:46d3',\n",
       "  '10.17.170.111',\n",
       "  'fd87:1cf1:9a65:0:216:3eff:fef1:d3b2',\n",
       "  'fd97:522f:fa6:0:216:3eff:fef1:d3b2',\n",
       "  'fd00:10:17:a0:216:3eff:fef1:d3b2',\n",
       "  'fe80::216:3eff:fef1:d3b2',\n",
       "  'fe80::c03e:81ff:fec0:b3e4',\n",
       "  '172.17.0.1',\n",
       "  'fe80::42:3cff:feb4:a553',\n",
       "  '127.0.0.1',\n",
       "  '::1'],\n",
       " ['172.18.0.1',\n",
       "  'fe80::42:a3ff:fe71:46d3',\n",
       "  '10.17.170.111',\n",
       "  'fd87:1cf1:9a65:0:216:3eff:fef1:d3b2',\n",
       "  'fd97:522f:fa6:0:216:3eff:fef1:d3b2',\n",
       "  'fd00:10:17:a0:216:3eff:fef1:d3b2',\n",
       "  'fe80::216:3eff:fef1:d3b2',\n",
       "  'fe80::c03e:81ff:fec0:b3e4',\n",
       "  '172.17.0.1',\n",
       "  'fe80::42:3cff:feb4:a553',\n",
       "  '127.0.0.1',\n",
       "  '::1'],\n",
       " ['127.0.0.1',\n",
       "  '::1',\n",
       "  '172.17.0.1',\n",
       "  'fe80::40e0:cff:fef8:280c',\n",
       "  '10.17.168.70',\n",
       "  'fd87:1cf1:9a65:0:216:3eff:fef3:8cb6',\n",
       "  'fd97:522f:fa6:0:216:3eff:fef3:8cb6',\n",
       "  'fd00:10:17:a0:216:3eff:fef3:8cb6',\n",
       "  'fe80::216:3eff:fef3:8cb6',\n",
       "  'fe80::e409:ebff:fef5:7ef7',\n",
       "  'fe80::3050:64ff:fe9a:4644',\n",
       "  '172.18.0.1',\n",
       "  'fe80::42:61ff:fe2d:352a',\n",
       "  'fe80::6cd1:8aff:fe80:2bea',\n",
       "  'fe80::74ad:37ff:feba:4c75'],\n",
       " ['fe80::6037:f4ff:fe7b:68c3',\n",
       "  'fe80::e4a6:61ff:fef0:e517',\n",
       "  '10.17.168.114',\n",
       "  'fd87:1cf1:9a65:0:216:3eff:feaa:bc35',\n",
       "  'fd97:522f:fa6:0:216:3eff:feaa:bc35',\n",
       "  'fd00:10:17:a0:216:3eff:feaa:bc35',\n",
       "  'fe80::216:3eff:feaa:bc35',\n",
       "  'fe80::dc9d:3cff:fefb:6f28',\n",
       "  'fe80::2890:d5ff:fe92:ed3f',\n",
       "  'fe80::5cff:eff:fe7c:34c1',\n",
       "  '172.18.0.1',\n",
       "  'fe80::42:42ff:fe90:3795',\n",
       "  '127.0.0.1',\n",
       "  '::1',\n",
       "  '172.17.0.1',\n",
       "  'fe80::42:f5ff:fe7d:bcb1'],\n",
       " ['10.17.164.107',\n",
       "  'fd87:1cf1:9a65:0:216:3eff:fe7d:7fc9',\n",
       "  'fd97:522f:fa6:0:216:3eff:fe7d:7fc9',\n",
       "  'fd00:10:17:a0:fdf9:f5e6:51bc:99ef',\n",
       "  'fd00:10:17:a0:216:3eff:fe7d:7fc9',\n",
       "  'fe80::216:3eff:fe7d:7fc9',\n",
       "  '127.0.0.1',\n",
       "  '::1'],\n",
       " ['10.17.170.231',\n",
       "  'fd87:1cf1:9a65:0:216:3eff:fe4d:1dda',\n",
       "  'fd97:522f:fa6:0:216:3eff:fe4d:1dda',\n",
       "  'fd00:10:17:a0:216:3eff:fe4d:1dda',\n",
       "  'fe80::216:3eff:fe4d:1dda',\n",
       "  '127.0.0.1',\n",
       "  '::1'],\n",
       " ['10.17.161.11',\n",
       "  'fd87:1cf1:9a65:0:216:3eff:fec8:12b',\n",
       "  'fd97:522f:fa6:0:216:3eff:fec8:12b',\n",
       "  'fd00:10:17:a0:216:3eff:fec8:12b',\n",
       "  'fe80::216:3eff:fec8:12b',\n",
       "  'fe80::c0e8:28ff:fe65:96e3',\n",
       "  '172.18.0.1',\n",
       "  'fe80::42:14ff:fea8:f6f8',\n",
       "  'fe80::18ef:6fff:fe4a:e61b',\n",
       "  'fe80::b01d:b4ff:fec4:8f1f',\n",
       "  'fe80::e003:8cff:fea6:4730',\n",
       "  'fe80::648c:57ff:fe02:ac63',\n",
       "  'fe80::186b:83ff:fe06:cc4f',\n",
       "  'fe80::a857:6ff:fed7:e29a',\n",
       "  '172.17.0.1',\n",
       "  'fe80::42:94ff:fee9:1e49',\n",
       "  '127.0.0.1',\n",
       "  '::1'],\n",
       " ['127.0.0.1',\n",
       "  '::1',\n",
       "  '172.17.0.1',\n",
       "  'fe80::42:daff:fe23:46ab',\n",
       "  '10.17.161.22',\n",
       "  'fd87:1cf1:9a65:0:216:3eff:fe22:7dcf',\n",
       "  'fd97:522f:fa6:0:216:3eff:fe22:7dcf',\n",
       "  'fd00:10:17:a0:216:3eff:fe22:7dcf',\n",
       "  'fe80::216:3eff:fe22:7dcf',\n",
       "  'fe80::a01b:72ff:fe62:5af0'],\n",
       " ['fe80::6c10:4fff:fe0f:cbca',\n",
       "  '172.17.0.1',\n",
       "  'fe80::42:deff:fe97:f7b7',\n",
       "  '127.0.0.1',\n",
       "  '::1',\n",
       "  '10.17.164.96',\n",
       "  'fd87:1cf1:9a65:0:216:3eff:fe45:b27c',\n",
       "  'fd97:522f:fa6:0:216:3eff:fe45:b27c',\n",
       "  'fd00:10:17:a0:216:3eff:fe45:b27c',\n",
       "  'fe80::216:3eff:fe45:b27c',\n",
       "  '172.18.0.1',\n",
       "  'fe80::42:26ff:fe76:94d1'],\n",
       " ['10.17.166.22',\n",
       "  'fd87:1cf1:9a65:0:216:3eff:fe9e:1fc',\n",
       "  'fd97:522f:fa6:0:216:3eff:fe9e:1fc',\n",
       "  'fd00:10:17:a0:216:3eff:fe9e:1fc',\n",
       "  'fe80::216:3eff:fe9e:1fc',\n",
       "  '172.18.0.1',\n",
       "  'fe80::42:78ff:feb7:624d',\n",
       "  '127.0.0.1',\n",
       "  '::1',\n",
       "  '172.17.0.1',\n",
       "  'fe80::42:70ff:fec4:a6d8'],\n",
       " ['127.0.0.1',\n",
       "  '::1',\n",
       "  '10.17.167.80',\n",
       "  'fd87:1cf1:9a65:0:216:3eff:fe02:b013',\n",
       "  'fd97:522f:fa6:0:216:3eff:fe02:b013',\n",
       "  'fd00:10:17:a0:21cd:463e:8e0:956',\n",
       "  'fd00:10:17:a0:216:3eff:fe02:b013',\n",
       "  'fe80::216:3eff:fe02:b013'],\n",
       " ['172.10.5.1',\n",
       "  'fe80::42:c7ff:febf:23c0',\n",
       "  'fe80::78c8:2eff:fe3a:9bde',\n",
       "  'fe80::b4e0:e8ff:fea8:4d27',\n",
       "  '10.17.169.13',\n",
       "  'fd87:1cf1:9a65:0:216:3eff:fee1:d708',\n",
       "  'fd97:522f:fa6:0:216:3eff:fee1:d708',\n",
       "  'fd00:10:17:a0:216:3eff:fee1:d708',\n",
       "  'fe80::216:3eff:fee1:d708',\n",
       "  '172.19.0.1',\n",
       "  '172.18.0.1',\n",
       "  'fe80::42:52ff:fed3:5b7',\n",
       "  'fe80::64a7:f4ff:fe9c:9209',\n",
       "  'fe80::e8b1:3aff:fedd:dcbe',\n",
       "  '127.0.0.1',\n",
       "  '::1',\n",
       "  '172.17.0.1',\n",
       "  'fe80::42:acff:fe70:7cff',\n",
       "  'fe80::f498:c8ff:fe32:5b1e',\n",
       "  '172.20.0.1'],\n",
       " ['127.0.0.1',\n",
       "  '::1',\n",
       "  '10.17.162.236',\n",
       "  'fd87:1cf1:9a65:0:216:3eff:fecb:b502',\n",
       "  'fd97:522f:fa6:0:216:3eff:fecb:b502',\n",
       "  'fd00:10:17:a0:216:3eff:fecb:b502',\n",
       "  'fe80::216:3eff:fecb:b502'],\n",
       " ['10.17.165.109',\n",
       "  'fd87:1cf1:9a65:0:216:3eff:fec9:5224',\n",
       "  'fd97:522f:fa6:0:216:3eff:fec9:5224',\n",
       "  'fd00:10:17:a0:216:3eff:fec9:5224',\n",
       "  'fe80::216:3eff:fec9:5224',\n",
       "  '127.0.0.1',\n",
       "  '::1'],\n",
       " ['127.0.0.1',\n",
       "  '::1',\n",
       "  '10.17.165.138',\n",
       "  'fd87:1cf1:9a65:0:216:3eff:fe4a:babb',\n",
       "  'fd97:522f:fa6:0:216:3eff:fe4a:babb',\n",
       "  'fd00:10:17:a0:216:3eff:fe4a:babb',\n",
       "  'fe80::216:3eff:fe4a:babb'],\n",
       " ['10.17.164.94',\n",
       "  'fd87:1cf1:9a65:0:216:3eff:feb4:c5db',\n",
       "  'fd97:522f:fa6:0:216:3eff:feb4:c5db',\n",
       "  'fd00:10:17:a0:216:3eff:feb4:c5db',\n",
       "  'fe80::216:3eff:feb4:c5db',\n",
       "  '172.19.0.1',\n",
       "  '127.0.0.1',\n",
       "  '::1',\n",
       "  '172.17.0.1',\n",
       "  'fe80::42:80ff:feb5:861e',\n",
       "  'fe80::44fe:a8ff:fe4e:92cd',\n",
       "  '172.18.0.1',\n",
       "  'fe80::42:5fff:fed8:ad7c'],\n",
       " ['127.0.0.1',\n",
       "  '::1',\n",
       "  'fd87:1cf1:9a65:0:216:3eff:feec:8db',\n",
       "  'fd97:522f:fa6:0:216:3eff:feec:8db',\n",
       "  'fd00:10:17:a0:f8f6:a9fa:ae2:257f',\n",
       "  'fd00:10:17:a0:216:3eff:feec:8db',\n",
       "  'fe80::216:3eff:feec:8db']]"
      ]
     },
     "execution_count": 117,
     "metadata": {},
     "output_type": "execute_result"
    }
   ],
   "source": [
    "IP"
   ]
  }
 ],
 "metadata": {
  "kernelspec": {
   "display_name": "Python 3",
   "language": "python",
   "name": "python3"
  },
  "language_info": {
   "codemirror_mode": {
    "name": "ipython",
    "version": 3
   },
   "file_extension": ".py",
   "mimetype": "text/x-python",
   "name": "python",
   "nbconvert_exporter": "python",
   "pygments_lexer": "ipython3",
   "version": "3.8.10"
  }
 },
 "nbformat": 4,
 "nbformat_minor": 5
}
