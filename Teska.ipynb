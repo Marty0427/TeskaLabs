{
 "cells": [
  {
   "cell_type": "code",
   "execution_count": 1,
   "id": "17b704ea",
   "metadata": {},
   "outputs": [],
   "source": [
    "import pandas as pd\n",
    "import numpy as np\n",
    "import datetime as dt\n",
    "import json\n",
    "from sqlalchemy import create_engine"
   ]
  },
  {
   "cell_type": "code",
   "execution_count": 2,
   "id": "f566bdfa",
   "metadata": {},
   "outputs": [],
   "source": [
    "with open('sample-data.json', mode = 'r', encoding = 'utf-8') as file:\n",
    "    data = json.load(file)"
   ]
  },
  {
   "cell_type": "code",
   "execution_count": 3,
   "id": "a4d22b69",
   "metadata": {},
   "outputs": [],
   "source": [
    "#načtení dat\n",
    "vstup = pd.DataFrame(data)"
   ]
  },
  {
   "cell_type": "code",
   "execution_count": 4,
   "id": "6820d2e3",
   "metadata": {},
   "outputs": [],
   "source": [
    "#tvorba prázdného dataframu\n",
    "vystup = pd.DataFrame(columns = ['name', 'cpu_use', 'memory_use', 'created_at', 'status', 'IP'])"
   ]
  },
  {
   "cell_type": "code",
   "execution_count": 11,
   "id": "83abf917",
   "metadata": {},
   "outputs": [],
   "source": [
    "#zápis dat do df\n",
    "vystup.name = vstup.name\n",
    "\n",
    "for i,e in enumerate(vstup.state):\n",
    "    try:\n",
    "        vystup.memory_use[i] = vstup.state[i]['memory']['usage']\n",
    "    except:\n",
    "        pass\n",
    "\n",
    "for i, e in enumerate(vstup.created_at):\n",
    "    vystup.created_at[i] = pd.to_datetime(vstup.created_at[i]).tz_convert('UTC')\n",
    "\n",
    "vystup.status = vstup.status\n",
    "\n",
    "for i,e in enumerate(vstup.state):\n",
    "    try:\n",
    "        network = pd.DataFrame.from_dict(vstup.state[i]['network'])\n",
    "    except:\n",
    "        pass\n",
    "    ips = []\n",
    "    for j in network.loc['addresses']:\n",
    "        for k in j:\n",
    "            ips.append(k['address'])\n",
    "    vystup.IP[i] = ips"
   ]
  },
  {
   "cell_type": "code",
   "execution_count": 12,
   "id": "910f51d4",
   "metadata": {},
   "outputs": [],
   "source": [
    "#převedu IP a datum na string\n",
    "vystup.IP = vystup.IP.apply(str)\n",
    "vystup.created_at = vystup.created_at.apply(str)"
   ]
  },
  {
   "cell_type": "code",
   "execution_count": 15,
   "id": "be6ed44a",
   "metadata": {},
   "outputs": [],
   "source": [
    "#zapíšu do databáze\n",
    "connection = sqlite3.connect(\"Teska.db\")\n",
    "engine = create_engine('sqlite://', echo=False)\n",
    "vystup.to_sql('vystup', con=connection, index = False)"
   ]
  }
 ],
 "metadata": {
  "kernelspec": {
   "display_name": "Python 3",
   "language": "python",
   "name": "python3"
  },
  "language_info": {
   "codemirror_mode": {
    "name": "ipython",
    "version": 3
   },
   "file_extension": ".py",
   "mimetype": "text/x-python",
   "name": "python",
   "nbconvert_exporter": "python",
   "pygments_lexer": "ipython3",
   "version": "3.8.10"
  }
 },
 "nbformat": 4,
 "nbformat_minor": 5
}
